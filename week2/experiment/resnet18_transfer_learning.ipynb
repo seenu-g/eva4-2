{
  "nbformat": 4,
  "nbformat_minor": 0,
  "metadata": {
    "colab": {
      "name": "resnet18 transfer learning.ipynb",
      "provenance": [],
      "authorship_tag": "ABX9TyOzVLZPywryPKKgsNfV0eUR",
      "include_colab_link": true
    },
    "kernelspec": {
      "name": "python3",
      "display_name": "Python 3"
    },
    "accelerator": "GPU",
    "widgets": {
      "application/vnd.jupyter.widget-state+json": {
        "209ff01b005e49b18c83236c6b64f2b1": {
          "model_module": "@jupyter-widgets/controls",
          "model_name": "HBoxModel",
          "state": {
            "_view_name": "HBoxView",
            "_dom_classes": [],
            "_model_name": "HBoxModel",
            "_view_module": "@jupyter-widgets/controls",
            "_model_module_version": "1.5.0",
            "_view_count": null,
            "_view_module_version": "1.5.0",
            "box_style": "",
            "layout": "IPY_MODEL_6ddcaf928d7143c5bd0dfc2b3f6c99e7",
            "_model_module": "@jupyter-widgets/controls",
            "children": [
              "IPY_MODEL_0f8cc42db5a44a96b32a17f311d69a3e",
              "IPY_MODEL_5a01177b6521424080366500d455d349"
            ]
          }
        },
        "6ddcaf928d7143c5bd0dfc2b3f6c99e7": {
          "model_module": "@jupyter-widgets/base",
          "model_name": "LayoutModel",
          "state": {
            "_view_name": "LayoutView",
            "grid_template_rows": null,
            "right": null,
            "justify_content": null,
            "_view_module": "@jupyter-widgets/base",
            "overflow": null,
            "_model_module_version": "1.2.0",
            "_view_count": null,
            "flex_flow": null,
            "width": null,
            "min_width": null,
            "border": null,
            "align_items": null,
            "bottom": null,
            "_model_module": "@jupyter-widgets/base",
            "top": null,
            "grid_column": null,
            "overflow_y": null,
            "overflow_x": null,
            "grid_auto_flow": null,
            "grid_area": null,
            "grid_template_columns": null,
            "flex": null,
            "_model_name": "LayoutModel",
            "justify_items": null,
            "grid_row": null,
            "max_height": null,
            "align_content": null,
            "visibility": null,
            "align_self": null,
            "height": null,
            "min_height": null,
            "padding": null,
            "grid_auto_rows": null,
            "grid_gap": null,
            "max_width": null,
            "order": null,
            "_view_module_version": "1.2.0",
            "grid_template_areas": null,
            "object_position": null,
            "object_fit": null,
            "grid_auto_columns": null,
            "margin": null,
            "display": null,
            "left": null
          }
        },
        "0f8cc42db5a44a96b32a17f311d69a3e": {
          "model_module": "@jupyter-widgets/controls",
          "model_name": "FloatProgressModel",
          "state": {
            "_view_name": "ProgressView",
            "style": "IPY_MODEL_36032e71b8c14dfe9b0daca1c1081070",
            "_dom_classes": [],
            "description": "100%",
            "_model_name": "FloatProgressModel",
            "bar_style": "success",
            "max": 46827520,
            "_view_module": "@jupyter-widgets/controls",
            "_model_module_version": "1.5.0",
            "value": 46827520,
            "_view_count": null,
            "_view_module_version": "1.5.0",
            "orientation": "horizontal",
            "min": 0,
            "description_tooltip": null,
            "_model_module": "@jupyter-widgets/controls",
            "layout": "IPY_MODEL_5f712b0a88034e31ba9a6ffa06a0e160"
          }
        },
        "5a01177b6521424080366500d455d349": {
          "model_module": "@jupyter-widgets/controls",
          "model_name": "HTMLModel",
          "state": {
            "_view_name": "HTMLView",
            "style": "IPY_MODEL_720a5db4ae6945058d3f43f1bebe80cb",
            "_dom_classes": [],
            "description": "",
            "_model_name": "HTMLModel",
            "placeholder": "​",
            "_view_module": "@jupyter-widgets/controls",
            "_model_module_version": "1.5.0",
            "value": " 44.7M/44.7M [02:22&lt;00:00, 329kB/s]",
            "_view_count": null,
            "_view_module_version": "1.5.0",
            "description_tooltip": null,
            "_model_module": "@jupyter-widgets/controls",
            "layout": "IPY_MODEL_de063316622a4d0486394ebb13994389"
          }
        },
        "36032e71b8c14dfe9b0daca1c1081070": {
          "model_module": "@jupyter-widgets/controls",
          "model_name": "ProgressStyleModel",
          "state": {
            "_view_name": "StyleView",
            "_model_name": "ProgressStyleModel",
            "description_width": "initial",
            "_view_module": "@jupyter-widgets/base",
            "_model_module_version": "1.5.0",
            "_view_count": null,
            "_view_module_version": "1.2.0",
            "bar_color": null,
            "_model_module": "@jupyter-widgets/controls"
          }
        },
        "5f712b0a88034e31ba9a6ffa06a0e160": {
          "model_module": "@jupyter-widgets/base",
          "model_name": "LayoutModel",
          "state": {
            "_view_name": "LayoutView",
            "grid_template_rows": null,
            "right": null,
            "justify_content": null,
            "_view_module": "@jupyter-widgets/base",
            "overflow": null,
            "_model_module_version": "1.2.0",
            "_view_count": null,
            "flex_flow": null,
            "width": null,
            "min_width": null,
            "border": null,
            "align_items": null,
            "bottom": null,
            "_model_module": "@jupyter-widgets/base",
            "top": null,
            "grid_column": null,
            "overflow_y": null,
            "overflow_x": null,
            "grid_auto_flow": null,
            "grid_area": null,
            "grid_template_columns": null,
            "flex": null,
            "_model_name": "LayoutModel",
            "justify_items": null,
            "grid_row": null,
            "max_height": null,
            "align_content": null,
            "visibility": null,
            "align_self": null,
            "height": null,
            "min_height": null,
            "padding": null,
            "grid_auto_rows": null,
            "grid_gap": null,
            "max_width": null,
            "order": null,
            "_view_module_version": "1.2.0",
            "grid_template_areas": null,
            "object_position": null,
            "object_fit": null,
            "grid_auto_columns": null,
            "margin": null,
            "display": null,
            "left": null
          }
        },
        "720a5db4ae6945058d3f43f1bebe80cb": {
          "model_module": "@jupyter-widgets/controls",
          "model_name": "DescriptionStyleModel",
          "state": {
            "_view_name": "StyleView",
            "_model_name": "DescriptionStyleModel",
            "description_width": "",
            "_view_module": "@jupyter-widgets/base",
            "_model_module_version": "1.5.0",
            "_view_count": null,
            "_view_module_version": "1.2.0",
            "_model_module": "@jupyter-widgets/controls"
          }
        },
        "de063316622a4d0486394ebb13994389": {
          "model_module": "@jupyter-widgets/base",
          "model_name": "LayoutModel",
          "state": {
            "_view_name": "LayoutView",
            "grid_template_rows": null,
            "right": null,
            "justify_content": null,
            "_view_module": "@jupyter-widgets/base",
            "overflow": null,
            "_model_module_version": "1.2.0",
            "_view_count": null,
            "flex_flow": null,
            "width": null,
            "min_width": null,
            "border": null,
            "align_items": null,
            "bottom": null,
            "_model_module": "@jupyter-widgets/base",
            "top": null,
            "grid_column": null,
            "overflow_y": null,
            "overflow_x": null,
            "grid_auto_flow": null,
            "grid_area": null,
            "grid_template_columns": null,
            "flex": null,
            "_model_name": "LayoutModel",
            "justify_items": null,
            "grid_row": null,
            "max_height": null,
            "align_content": null,
            "visibility": null,
            "align_self": null,
            "height": null,
            "min_height": null,
            "padding": null,
            "grid_auto_rows": null,
            "grid_gap": null,
            "max_width": null,
            "order": null,
            "_view_module_version": "1.2.0",
            "grid_template_areas": null,
            "object_position": null,
            "object_fit": null,
            "grid_auto_columns": null,
            "margin": null,
            "display": null,
            "left": null
          }
        }
      }
    }
  },
  "cells": [
    {
      "cell_type": "markdown",
      "metadata": {
        "id": "view-in-github",
        "colab_type": "text"
      },
      "source": [
        "<a href=\"https://colab.research.google.com/github/seenu-g/eva4-2/blob/master/week2/experiment/resnet18_transfer_learning.ipynb\" target=\"_parent\"><img src=\"https://colab.research.google.com/assets/colab-badge.svg\" alt=\"Open In Colab\"/></a>"
      ]
    },
    {
      "cell_type": "code",
      "metadata": {
        "id": "ZcuIvP9zy7oE",
        "colab_type": "code",
        "colab": {}
      },
      "source": [
        "from __future__ import print_function, division\n",
        "\n",
        "import torch\n",
        "import torch.nn as nn\n",
        "import torch.optim as optim\n",
        "from torch.optim import lr_scheduler\n",
        "import numpy as np\n",
        "import torchvision\n",
        "from torchvision import datasets, models, transforms\n",
        "import matplotlib.pyplot as plt\n",
        "import time\n",
        "import os\n",
        "import copy\n",
        "\n",
        "plt.ion() "
      ],
      "execution_count": 3,
      "outputs": []
    },
    {
      "cell_type": "code",
      "metadata": {
        "id": "sX-TFAaBzIvy",
        "colab_type": "code",
        "colab": {
          "base_uri": "https://localhost:8080/",
          "height": 122
        },
        "outputId": "8548c013-e979-4e6d-cbae-de7f30045467"
      },
      "source": [
        "from google.colab import drive\n",
        "import sys\n",
        "%load_ext autoreload\n",
        "%autoreload 2\n",
        "drive.mount('/content/gdrive',force_remount=True)"
      ],
      "execution_count": 2,
      "outputs": [
        {
          "output_type": "stream",
          "text": [
            "Go to this URL in a browser: https://accounts.google.com/o/oauth2/auth?client_id=947318989803-6bn6qk8qdgf4n4g3pfee6491hc0brc4i.apps.googleusercontent.com&redirect_uri=urn%3aietf%3awg%3aoauth%3a2.0%3aoob&response_type=code&scope=email%20https%3a%2f%2fwww.googleapis.com%2fauth%2fdocs.test%20https%3a%2f%2fwww.googleapis.com%2fauth%2fdrive%20https%3a%2f%2fwww.googleapis.com%2fauth%2fdrive.photos.readonly%20https%3a%2f%2fwww.googleapis.com%2fauth%2fpeopleapi.readonly\n",
            "\n",
            "Enter your authorization code:\n",
            "··········\n",
            "Mounted at /content/gdrive\n"
          ],
          "name": "stdout"
        }
      ]
    },
    {
      "cell_type": "code",
      "metadata": {
        "id": "2eEE8EvszMJV",
        "colab_type": "code",
        "colab": {
          "base_uri": "https://localhost:8080/",
          "height": 34
        },
        "outputId": "13e77e7f-6194-42a7-8b24-6c4963ebf36f"
      },
      "source": [
        "cd '/content/gdrive/My Drive/school_of_ai/eva4-2/week2'"
      ],
      "execution_count": 4,
      "outputs": [
        {
          "output_type": "stream",
          "text": [
            "/content/gdrive/My Drive/school_of_ai/eva4-2/week2\n"
          ],
          "name": "stdout"
        }
      ]
    },
    {
      "cell_type": "code",
      "metadata": {
        "id": "7_IQdl04zTjg",
        "colab_type": "code",
        "colab": {}
      },
      "source": [
        "data_transforms = {\n",
        "    'train': transforms.Compose([\n",
        "        transforms.RandomResizedCrop(224),\n",
        "        transforms.RandomHorizontalFlip(),\n",
        "        transforms.ToTensor(),\n",
        "        transforms.Normalize([0.485, 0.456, 0.406], [0.229, 0.224, 0.225])\n",
        "    ]),\n",
        "    'val': transforms.Compose([\n",
        "        transforms.Resize(256),\n",
        "        transforms.CenterCrop(224),\n",
        "        transforms.ToTensor(),\n",
        "        transforms.Normalize([0.485, 0.456, 0.406], [0.229, 0.224, 0.225])\n",
        "    ]),\n",
        "}\n",
        "\n",
        "data_dir = '/content/gdrive/My Drive/school_of_ai/eva4-2/week2/hymenoptera_data'\n",
        "image_datasets = {x: datasets.ImageFolder(os.path.join(data_dir, x),\n",
        "                                          data_transforms[x])\n",
        "                  for x in ['train', 'val']}\n",
        "dataloaders = {x: torch.utils.data.DataLoader(image_datasets[x], batch_size=4,\n",
        "                                             shuffle=True, num_workers=4)\n",
        "              for x in ['train', 'val']}\n",
        "dataset_sizes = {x: len(image_datasets[x]) for x in ['train', 'val']}\n",
        "class_names = image_datasets['train'].classes\n",
        "\n",
        "device = torch.device(\"cuda:0\" if torch.cuda.is_available() else \"cpu\")"
      ],
      "execution_count": 5,
      "outputs": []
    },
    {
      "cell_type": "code",
      "metadata": {
        "id": "Og-4-uRxzc02",
        "colab_type": "code",
        "colab": {}
      },
      "source": [
        "def imshow(inp, title=None):\n",
        "    \"\"\"Imshow for Tensor.\"\"\"\n",
        "    inp = inp.numpy().transpose((1, 2, 0))\n",
        "    mean = np.array([0.485, 0.456, 0.406])\n",
        "    std = np.array([0.229, 0.224, 0.225])\n",
        "    inp = std * inp + mean\n",
        "    inp = np.clip(inp, 0, 1)\n",
        "    plt.imshow(inp)\n",
        "    if title is not None:\n",
        "        plt.title(title)\n",
        "    plt.pause(0.001)  # pause a bit so that plots are updated\n",
        "\n",
        "\n",
        "# Get a batch of training data\n",
        "#inputs, classes = next(iter(dataloaders['train']))\n",
        "\n",
        "# Make a grid from batch\n",
        "#out = torchvision.utils.make_grid(inputs)\n",
        "\n",
        "#imshow(out, title=[class_names[x] for x in classes])"
      ],
      "execution_count": 6,
      "outputs": []
    },
    {
      "cell_type": "code",
      "metadata": {
        "id": "r7w3Uwr9zlB8",
        "colab_type": "code",
        "colab": {}
      },
      "source": [
        "def train_model(model, criterion, optimizer, scheduler, num_epochs=25):\n",
        "    since = time.time()\n",
        "\n",
        "    best_model_wts = copy.deepcopy(model.state_dict())\n",
        "    best_acc = 0.0\n",
        "\n",
        "    for epoch in range(num_epochs):\n",
        "        print('Epoch {}/{}'.format(epoch, num_epochs - 1))\n",
        "        print('-' * 10)\n",
        "\n",
        "        # Each epoch has a training and validation phase\n",
        "        for phase in ['train', 'val']:\n",
        "            if phase == 'train':\n",
        "                model.train()  # Set model to training mode\n",
        "            else:\n",
        "                model.eval()   # Set model to evaluate mode\n",
        "\n",
        "            running_loss = 0.0\n",
        "            running_corrects = 0\n",
        "\n",
        "            # Iterate over data.\n",
        "            for inputs, labels in dataloaders[phase]:\n",
        "                inputs = inputs.to(device)\n",
        "                labels = labels.to(device)\n",
        "\n",
        "                # zero the parameter gradients\n",
        "                optimizer.zero_grad()\n",
        "\n",
        "                # forward\n",
        "                # track history if only in train\n",
        "                with torch.set_grad_enabled(phase == 'train'):\n",
        "                    outputs = model(inputs)\n",
        "                    _, preds = torch.max(outputs, 1)\n",
        "                    loss = criterion(outputs, labels)\n",
        "\n",
        "                    # backward + optimize only if in training phase\n",
        "                    if phase == 'train':\n",
        "                        loss.backward()\n",
        "                        optimizer.step()\n",
        "\n",
        "                # statistics\n",
        "                running_loss += loss.item() * inputs.size(0)\n",
        "                running_corrects += torch.sum(preds == labels.data)\n",
        "            if phase == 'train':\n",
        "                scheduler.step()\n",
        "\n",
        "            epoch_loss = running_loss / dataset_sizes[phase]\n",
        "            epoch_acc = running_corrects.double() / dataset_sizes[phase]\n",
        "\n",
        "            print('{} Loss: {:.4f} Acc: {:.4f}'.format(\n",
        "                phase, epoch_loss, epoch_acc))\n",
        "\n",
        "            # deep copy the model\n",
        "            if phase == 'val' and epoch_acc > best_acc:\n",
        "                best_acc = epoch_acc\n",
        "                best_model_wts = copy.deepcopy(model.state_dict())\n",
        "\n",
        "        print()\n",
        "\n",
        "    time_elapsed = time.time() - since\n",
        "    print('Training complete in {:.0f}m {:.0f}s'.format(\n",
        "        time_elapsed // 60, time_elapsed % 60))\n",
        "    print('Best val Acc: {:4f}'.format(best_acc))\n",
        "\n",
        "    # load best model weights\n",
        "    model.load_state_dict(best_model_wts)\n",
        "    return model"
      ],
      "execution_count": 7,
      "outputs": []
    },
    {
      "cell_type": "code",
      "metadata": {
        "id": "TVY2CGV8zqgD",
        "colab_type": "code",
        "colab": {}
      },
      "source": [
        "def visualize_model(model, num_images=6):\n",
        "    was_training = model.training\n",
        "    model.eval()\n",
        "    images_so_far = 0\n",
        "    fig = plt.figure()\n",
        "\n",
        "    with torch.no_grad():\n",
        "        for i, (inputs, labels) in enumerate(dataloaders['val']):\n",
        "            inputs = inputs.to(device)\n",
        "            labels = labels.to(device)\n",
        "\n",
        "            outputs = model(inputs)\n",
        "            _, preds = torch.max(outputs, 1)\n",
        "\n",
        "            for j in range(inputs.size()[0]):\n",
        "                images_so_far += 1\n",
        "                ax = plt.subplot(num_images//2, 2, images_so_far)\n",
        "                ax.axis('off')\n",
        "                ax.set_title('predicted: {}'.format(class_names[preds[j]]))\n",
        "                imshow(inputs.cpu().data[j])\n",
        "\n",
        "                if images_so_far == num_images:\n",
        "                    model.train(mode=was_training)\n",
        "                    return\n",
        "        model.train(mode=was_training)"
      ],
      "execution_count": 11,
      "outputs": []
    },
    {
      "cell_type": "markdown",
      "metadata": {
        "id": "KB8F3zTgzx5K",
        "colab_type": "text"
      },
      "source": [
        "Load a pretrained model and reset final fully connected layer.\n",
        "\n"
      ]
    },
    {
      "cell_type": "code",
      "metadata": {
        "id": "XtTsIz3AzvTR",
        "colab_type": "code",
        "colab": {
          "base_uri": "https://localhost:8080/",
          "height": 83,
          "referenced_widgets": [
            "209ff01b005e49b18c83236c6b64f2b1",
            "6ddcaf928d7143c5bd0dfc2b3f6c99e7",
            "0f8cc42db5a44a96b32a17f311d69a3e",
            "5a01177b6521424080366500d455d349",
            "36032e71b8c14dfe9b0daca1c1081070",
            "5f712b0a88034e31ba9a6ffa06a0e160",
            "720a5db4ae6945058d3f43f1bebe80cb",
            "de063316622a4d0486394ebb13994389"
          ]
        },
        "outputId": "a53b1997-9c6d-499d-e9db-bf2bb7d555a6"
      },
      "source": [
        "model_ft = models.resnet18(pretrained=True)\n",
        "num_ftrs = model_ft.fc.in_features\n",
        "# Here the size of each output sample is set to 2.\n",
        "# Alternatively, it can be generalized to nn.Linear(num_ftrs, len(class_names)).\n",
        "model_ft.fc = nn.Linear(num_ftrs, 2)\n",
        "\n",
        "model_ft = model_ft.to(device)\n",
        "\n",
        "criterion = nn.CrossEntropyLoss()\n",
        "\n",
        "# Observe that all parameters are being optimized\n",
        "optimizer_ft = optim.SGD(model_ft.parameters(), lr=0.001, momentum=0.9)\n",
        "\n",
        "# Decay LR by a factor of 0.1 every 7 epochs\n",
        "exp_lr_scheduler = lr_scheduler.StepLR(optimizer_ft, step_size=7, gamma=0.1)"
      ],
      "execution_count": 8,
      "outputs": [
        {
          "output_type": "stream",
          "text": [
            "Downloading: \"https://download.pytorch.org/models/resnet18-5c106cde.pth\" to /root/.cache/torch/checkpoints/resnet18-5c106cde.pth\n"
          ],
          "name": "stderr"
        },
        {
          "output_type": "display_data",
          "data": {
            "application/vnd.jupyter.widget-view+json": {
              "model_id": "209ff01b005e49b18c83236c6b64f2b1",
              "version_minor": 0,
              "version_major": 2
            },
            "text/plain": [
              "HBox(children=(FloatProgress(value=0.0, max=46827520.0), HTML(value='')))"
            ]
          },
          "metadata": {
            "tags": []
          }
        },
        {
          "output_type": "stream",
          "text": [
            "\n"
          ],
          "name": "stdout"
        }
      ]
    },
    {
      "cell_type": "code",
      "metadata": {
        "id": "W0LL439Gz27W",
        "colab_type": "code",
        "colab": {
          "base_uri": "https://localhost:8080/",
          "height": 1000
        },
        "outputId": "40cb9355-3afb-4f9b-c1e1-ae44ff329576"
      },
      "source": [
        "model_ft = train_model(model_ft, criterion, optimizer_ft, exp_lr_scheduler,num_epochs=25)"
      ],
      "execution_count": 9,
      "outputs": [
        {
          "output_type": "stream",
          "text": [
            "Epoch 0/24\n",
            "----------\n",
            "train Loss: 0.5790 Acc: 0.7090\n",
            "val Loss: 0.2042 Acc: 0.9085\n",
            "\n",
            "Epoch 1/24\n",
            "----------\n",
            "train Loss: 0.6351 Acc: 0.7459\n",
            "val Loss: 0.1958 Acc: 0.9216\n",
            "\n",
            "Epoch 2/24\n",
            "----------\n",
            "train Loss: 0.4372 Acc: 0.8320\n",
            "val Loss: 0.4951 Acc: 0.7843\n",
            "\n",
            "Epoch 3/24\n",
            "----------\n",
            "train Loss: 0.5164 Acc: 0.8238\n",
            "val Loss: 0.3581 Acc: 0.8693\n",
            "\n",
            "Epoch 4/24\n",
            "----------\n",
            "train Loss: 0.5322 Acc: 0.7951\n",
            "val Loss: 0.1942 Acc: 0.9346\n",
            "\n",
            "Epoch 5/24\n",
            "----------\n",
            "train Loss: 0.5322 Acc: 0.8033\n",
            "val Loss: 0.6177 Acc: 0.7712\n",
            "\n",
            "Epoch 6/24\n",
            "----------\n",
            "train Loss: 0.4129 Acc: 0.8197\n",
            "val Loss: 0.3811 Acc: 0.8824\n",
            "\n",
            "Epoch 7/24\n",
            "----------\n",
            "train Loss: 0.3324 Acc: 0.8484\n",
            "val Loss: 0.2473 Acc: 0.9281\n",
            "\n",
            "Epoch 8/24\n",
            "----------\n",
            "train Loss: 0.3005 Acc: 0.8730\n",
            "val Loss: 0.2116 Acc: 0.9216\n",
            "\n",
            "Epoch 9/24\n",
            "----------\n",
            "train Loss: 0.2911 Acc: 0.8648\n",
            "val Loss: 0.2200 Acc: 0.9281\n",
            "\n",
            "Epoch 10/24\n",
            "----------\n",
            "train Loss: 0.3195 Acc: 0.8484\n",
            "val Loss: 0.2323 Acc: 0.9346\n",
            "\n",
            "Epoch 11/24\n",
            "----------\n",
            "train Loss: 0.3122 Acc: 0.8689\n",
            "val Loss: 0.2787 Acc: 0.9085\n",
            "\n",
            "Epoch 12/24\n",
            "----------\n",
            "train Loss: 0.3470 Acc: 0.8443\n",
            "val Loss: 0.2208 Acc: 0.8954\n",
            "\n",
            "Epoch 13/24\n",
            "----------\n",
            "train Loss: 0.2946 Acc: 0.8934\n",
            "val Loss: 0.2024 Acc: 0.9216\n",
            "\n",
            "Epoch 14/24\n",
            "----------\n",
            "train Loss: 0.2822 Acc: 0.8852\n",
            "val Loss: 0.2493 Acc: 0.9216\n",
            "\n",
            "Epoch 15/24\n",
            "----------\n",
            "train Loss: 0.2234 Acc: 0.9221\n",
            "val Loss: 0.1942 Acc: 0.9412\n",
            "\n",
            "Epoch 16/24\n",
            "----------\n",
            "train Loss: 0.2519 Acc: 0.8893\n",
            "val Loss: 0.1936 Acc: 0.9412\n",
            "\n",
            "Epoch 17/24\n",
            "----------\n",
            "train Loss: 0.2289 Acc: 0.9139\n",
            "val Loss: 0.2298 Acc: 0.9346\n",
            "\n",
            "Epoch 18/24\n",
            "----------\n",
            "train Loss: 0.2878 Acc: 0.8852\n",
            "val Loss: 0.2034 Acc: 0.9150\n",
            "\n",
            "Epoch 19/24\n",
            "----------\n",
            "train Loss: 0.3366 Acc: 0.8484\n",
            "val Loss: 0.2057 Acc: 0.9085\n",
            "\n",
            "Epoch 20/24\n",
            "----------\n",
            "train Loss: 0.3008 Acc: 0.8689\n",
            "val Loss: 0.1941 Acc: 0.9281\n",
            "\n",
            "Epoch 21/24\n",
            "----------\n",
            "train Loss: 0.3485 Acc: 0.8607\n",
            "val Loss: 0.1950 Acc: 0.9346\n",
            "\n",
            "Epoch 22/24\n",
            "----------\n",
            "train Loss: 0.3016 Acc: 0.8811\n",
            "val Loss: 0.1954 Acc: 0.9150\n",
            "\n",
            "Epoch 23/24\n",
            "----------\n",
            "train Loss: 0.3353 Acc: 0.8607\n",
            "val Loss: 0.1986 Acc: 0.9412\n",
            "\n",
            "Epoch 24/24\n",
            "----------\n",
            "train Loss: 0.2613 Acc: 0.8893\n",
            "val Loss: 0.1847 Acc: 0.9412\n",
            "\n",
            "Training complete in 2m 12s\n",
            "Best val Acc: 0.941176\n"
          ],
          "name": "stdout"
        },
        {
          "output_type": "error",
          "ename": "NameError",
          "evalue": "ignored",
          "traceback": [
            "\u001b[0;31m---------------------------------------------------------------------------\u001b[0m",
            "\u001b[0;31mNameError\u001b[0m                                 Traceback (most recent call last)",
            "\u001b[0;32m<ipython-input-9-999312901976>\u001b[0m in \u001b[0;36m<module>\u001b[0;34m()\u001b[0m\n\u001b[1;32m      1\u001b[0m model_ft = train_model(model_ft, criterion, optimizer_ft, exp_lr_scheduler,\n\u001b[1;32m      2\u001b[0m                        num_epochs=25)\n\u001b[0;32m----> 3\u001b[0;31m \u001b[0mvisualize_model\u001b[0m\u001b[0;34m(\u001b[0m\u001b[0mmodel_ft\u001b[0m\u001b[0;34m)\u001b[0m\u001b[0;34m\u001b[0m\u001b[0;34m\u001b[0m\u001b[0m\n\u001b[0m",
            "\u001b[0;31mNameError\u001b[0m: name 'visualize_model' is not defined"
          ]
        }
      ]
    },
    {
      "cell_type": "code",
      "metadata": {
        "id": "EXJnlT5E26ys",
        "colab_type": "code",
        "colab": {
          "base_uri": "https://localhost:8080/",
          "height": 581
        },
        "outputId": "221907e2-731a-4b65-a50a-361db1a485fc"
      },
      "source": [
        "visualize_model(model_ft)"
      ],
      "execution_count": 12,
      "outputs": [
        {
          "output_type": "display_data",
          "data": {
            "image/png": "[encoded data removed]",
            "text/plain": [
              "<Figure size 432x288 with 1 Axes>"
            ]
          },
          "metadata": {
            "tags": [],
            "needs_background": "light"
          }
        },
        {
          "output_type": "display_data",
          "data": {
            "image/png": "[encoded data removed]",
            "text/plain": [
              "<Figure size 432x288 with 1 Axes>"
            ]
          },
          "metadata": {
            "tags": [],
            "needs_background": "light"
          }
        },
        {
          "output_type": "display_data",
          "data": {
            "image/png": "[encoded data removed]",
            "text/plain": [
              "<Figure size 432x288 with 1 Axes>"
            ]
          },
          "metadata": {
            "tags": [],
            "needs_background": "light"
          }
        },
        {
          "output_type": "display_data",
          "data": {
            "image/png": "[encoded data removed]",
            "text/plain": [
              "<Figure size 432x288 with 1 Axes>"
            ]
          },
          "metadata": {
            "tags": [],
            "needs_background": "light"
          }
        },
        {
          "output_type": "display_data",
          "data": {
            "image/png": "[encoded data removed]",
            "text/plain": [
              "<Figure size 432x288 with 1 Axes>"
            ]
          },
          "metadata": {
            "tags": [],
            "needs_background": "light"
          }
        },
        {
          "output_type": "display_data",
          "data": {
            "image/png": "[encoded data removed]",
            "text/plain": [
              "<Figure size 432x288 with 1 Axes>"
            ]
          },
          "metadata": {
            "tags": [],
            "needs_background": "light"
          }
        }
      ]
    },
    {
      "cell_type": "markdown",
      "metadata": {
        "id": "dVTPco_6z-gg",
        "colab_type": "text"
      },
      "source": [
        "Here, we need to freeze all the network except the final layer. We need to set requires_grad == False to freeze the parameters so that the gradients are not computed in backward().\n",
        "\n"
      ]
    },
    {
      "cell_type": "code",
      "metadata": {
        "id": "5xMH1efJz9uJ",
        "colab_type": "code",
        "colab": {}
      },
      "source": [
        "model_conv = torchvision.models.resnet18(pretrained=True)\n",
        "for param in model_conv.parameters():\n",
        "    param.requires_grad = False\n",
        "\n",
        "# Parameters of newly constructed modules have requires_grad=True by default\n",
        "num_ftrs = model_conv.fc.in_features\n",
        "model_conv.fc = nn.Linear(num_ftrs, 2)\n",
        "\n",
        "model_conv = model_conv.to(device)\n",
        "\n",
        "criterion = nn.CrossEntropyLoss()\n",
        "\n",
        "# Observe that only parameters of final layer are being optimized as\n",
        "# opposed to before.\n",
        "optimizer_conv = optim.SGD(model_conv.fc.parameters(), lr=0.001, momentum=0.9)\n",
        "\n",
        "# Decay LR by a factor of 0.1 every 7 epochs\n",
        "exp_lr_scheduler = lr_scheduler.StepLR(optimizer_conv, step_size=7, gamma=0.1)\n"
      ],
      "execution_count": 14,
      "outputs": []
    },
    {
      "cell_type": "code",
      "metadata": {
        "id": "kjwlp5-u0Jyf",
        "colab_type": "code",
        "colab": {
          "base_uri": "https://localhost:8080/",
          "height": 1000
        },
        "outputId": "9d4118f7-dab5-4d99-d177-524a9ff0d15f"
      },
      "source": [
        "model_conv = train_model(model_conv, criterion, optimizer_conv,exp_lr_scheduler, num_epochs=25)"
      ],
      "execution_count": 15,
      "outputs": [
        {
          "output_type": "stream",
          "text": [
            "Epoch 0/24\n",
            "----------\n",
            "train Loss: 0.9277 Acc: 0.5943\n",
            "val Loss: 0.2330 Acc: 0.9216\n",
            "\n",
            "Epoch 1/24\n",
            "----------\n",
            "train Loss: 0.4964 Acc: 0.7787\n",
            "val Loss: 0.2658 Acc: 0.9020\n",
            "\n",
            "Epoch 2/24\n",
            "----------\n",
            "train Loss: 0.4952 Acc: 0.7787\n",
            "val Loss: 0.2619 Acc: 0.8889\n",
            "\n",
            "Epoch 3/24\n",
            "----------\n",
            "train Loss: 0.3910 Acc: 0.8361\n",
            "val Loss: 0.1659 Acc: 0.9477\n",
            "\n",
            "Epoch 4/24\n",
            "----------\n",
            "train Loss: 0.4553 Acc: 0.7910\n",
            "val Loss: 0.1998 Acc: 0.9542\n",
            "\n",
            "Epoch 5/24\n",
            "----------\n",
            "train Loss: 0.3523 Acc: 0.8443\n",
            "val Loss: 0.3065 Acc: 0.8758\n",
            "\n",
            "Epoch 6/24\n",
            "----------\n",
            "train Loss: 0.5736 Acc: 0.7541\n",
            "val Loss: 0.1780 Acc: 0.9477\n",
            "\n",
            "Epoch 7/24\n",
            "----------\n",
            "train Loss: 0.3915 Acc: 0.8279\n",
            "val Loss: 0.2012 Acc: 0.9412\n",
            "\n",
            "Epoch 8/24\n",
            "----------\n",
            "train Loss: 0.3032 Acc: 0.8811\n",
            "val Loss: 0.1983 Acc: 0.9346\n",
            "\n",
            "Epoch 9/24\n",
            "----------\n",
            "train Loss: 0.3230 Acc: 0.8443\n",
            "val Loss: 0.2481 Acc: 0.9020\n",
            "\n",
            "Epoch 10/24\n",
            "----------\n",
            "train Loss: 0.4181 Acc: 0.8033\n",
            "val Loss: 0.2151 Acc: 0.9412\n",
            "\n",
            "Epoch 11/24\n",
            "----------\n",
            "train Loss: 0.3732 Acc: 0.8402\n",
            "val Loss: 0.2043 Acc: 0.9412\n",
            "\n",
            "Epoch 12/24\n",
            "----------\n",
            "train Loss: 0.3286 Acc: 0.8361\n",
            "val Loss: 0.2084 Acc: 0.9412\n",
            "\n",
            "Epoch 13/24\n",
            "----------\n",
            "train Loss: 0.3464 Acc: 0.8484\n",
            "val Loss: 0.2093 Acc: 0.9412\n",
            "\n",
            "Epoch 14/24\n",
            "----------\n",
            "train Loss: 0.3930 Acc: 0.8279\n",
            "val Loss: 0.2109 Acc: 0.9346\n",
            "\n",
            "Epoch 15/24\n",
            "----------\n",
            "train Loss: 0.3647 Acc: 0.8238\n",
            "val Loss: 0.1873 Acc: 0.9412\n",
            "\n",
            "Epoch 16/24\n",
            "----------\n",
            "train Loss: 0.3499 Acc: 0.8443\n",
            "val Loss: 0.2035 Acc: 0.9477\n",
            "\n",
            "Epoch 17/24\n",
            "----------\n",
            "train Loss: 0.3428 Acc: 0.8279\n",
            "val Loss: 0.1875 Acc: 0.9477\n",
            "\n",
            "Epoch 18/24\n",
            "----------\n",
            "train Loss: 0.3670 Acc: 0.8115\n",
            "val Loss: 0.1849 Acc: 0.9477\n",
            "\n",
            "Epoch 19/24\n",
            "----------\n",
            "train Loss: 0.3766 Acc: 0.8320\n",
            "val Loss: 0.1934 Acc: 0.9346\n",
            "\n",
            "Epoch 20/24\n",
            "----------\n",
            "train Loss: 0.3111 Acc: 0.8566\n",
            "val Loss: 0.2125 Acc: 0.9477\n",
            "\n",
            "Epoch 21/24\n",
            "----------\n",
            "train Loss: 0.3493 Acc: 0.8361\n",
            "val Loss: 0.1941 Acc: 0.9412\n",
            "\n",
            "Epoch 22/24\n",
            "----------\n",
            "train Loss: 0.3099 Acc: 0.8689\n",
            "val Loss: 0.1926 Acc: 0.9412\n",
            "\n",
            "Epoch 23/24\n",
            "----------\n",
            "train Loss: 0.2930 Acc: 0.8648\n",
            "val Loss: 0.1829 Acc: 0.9346\n",
            "\n",
            "Epoch 24/24\n",
            "----------\n",
            "train Loss: 0.3115 Acc: 0.8689\n",
            "val Loss: 0.1823 Acc: 0.9542\n",
            "\n",
            "Training complete in 1m 25s\n",
            "Best val Acc: 0.954248\n"
          ],
          "name": "stdout"
        }
      ]
    }
  ]
}